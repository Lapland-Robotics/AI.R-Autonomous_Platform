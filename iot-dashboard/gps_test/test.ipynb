{
 "cells": [
  {
   "cell_type": "code",
   "execution_count": 1,
   "metadata": {},
   "outputs": [],
   "source": [
    "import websocket\n",
    "from websocket import create_connection"
   ]
  },
  {
   "cell_type": "code",
   "execution_count": 5,
   "metadata": {},
   "outputs": [],
   "source": [
    "ws = create_connection('ws://localhost:3000')\n",
    "print(ws.recv())\n",
    "print(\"Sending 'Hello, World'...\")\n",
    "ws.send(\"Hello, World\")\n",
    "print(\"Sent\")\n",
    "print(\"Receiving...\")\n",
    "result =  ws.recv()\n",
    "print(\"Received '%s'\" % result)\n",
    "ws.close()"
   ]
  },
  {
   "cell_type": "code",
   "execution_count": 8,
   "metadata": {},
   "outputs": [
    {
     "name": "stderr",
     "output_type": "stream",
     "text": [
      "--- request header ---\n",
      "GET / HTTP/1.1\n",
      "Upgrade: websocket\n",
      "Host: localhost:3000\n",
      "Origin: http://localhost:3000\n",
      "Sec-WebSocket-Key: sCMSi9RhzGQwVsmvZ2QbmQ==\n",
      "Sec-WebSocket-Version: 13\n",
      "Connection: Upgrade\n",
      "\n",
      "\n",
      "-----------------------\n",
      "--- response header ---\n",
      "HTTP/1.1 101 Switching Protocols\n",
      "Upgrade: websocket\n",
      "Connection: Upgrade\n",
      "Sec-WebSocket-Accept: DNNYCxkJWp14rE/UcB8FGrsPoqI=\n",
      "-----------------------\n",
      "Websocket connected\n",
      "++Sent raw: b'\\x81\\xb1\\x9d\\xe2\\t\\xb9\\xe6\\xc0k\\xd6\\xf9\\x9b+\\x83\\xbd\\xc08\\x8b\\xae\\xd6+\\x95\\xbd\\xc0m\\xd0\\xef\\x87j\\xcd\\xf4\\x8dg\\x9b\\xa7\\xc2+\\xf4\\xf8\\x91z\\xd8\\xfa\\x87)\\xeb\\xf8\\x81l\\xd0\\xeb\\x87m\\x9b\\xe0'\n",
      "++Sent decoded: fin=1 opcode=1 data=b'{\"body\": \"1234\", \"direction\": \"Message Received\"}'\n",
      "++Rcv raw: b'\\x81.{\"body\":\"1234\",\"direction\":\"Message received\"}'\n",
      "++Rcv decoded: fin=1 opcode=1 data=b'{\"body\":\"1234\",\"direction\":\"Message received\"}'\n"
     ]
    },
    {
     "name": "stdout",
     "output_type": "stream",
     "text": [
      "Opened connection\n",
      "{\"body\":\"1234\",\"direction\":\"Message received\"}\n"
     ]
    }
   ],
   "source": [
    "import websocket\n",
    "import _thread\n",
    "import time\n",
    "import rel\n",
    "\n",
    "def on_message(ws, message):\n",
    "    print(message)\n",
    "\n",
    "def on_error(ws, error):\n",
    "    print(error)\n",
    "\n",
    "def on_close(ws, close_status_code, close_msg):\n",
    "    print(\"### closed ###\")\n",
    "\n",
    "def on_open(ws):\n",
    "    print(\"Opened connection\")\n",
    "\n",
    "if __name__ == \"__main__\":\n",
    "    websocket.enableTrace(True)\n",
    "    ws = websocket.WebSocketApp(\"ws://localhost:3000\",\n",
    "                              on_open=on_open,\n",
    "                              on_message=on_message,\n",
    "                              on_error=on_error,\n",
    "                              on_close=on_close)\n",
    "    ws.run_forever(dispatcher=rel, reconnect=5)  # Set dispatcher to automatic reconnection, 5 second reconnect delay if connection closed unexpectedly\n",
    "    ws.\n",
    "    rel.signal(2, rel.abort)  # Keyboard Interrupt\n",
    "    rel.dispatch()"
   ]
  }
 ],
 "metadata": {
  "kernelspec": {
   "display_name": ".venv",
   "language": "python",
   "name": "python3"
  },
  "language_info": {
   "codemirror_mode": {
    "name": "ipython",
    "version": 3
   },
   "file_extension": ".py",
   "mimetype": "text/x-python",
   "name": "python",
   "nbconvert_exporter": "python",
   "pygments_lexer": "ipython3",
   "version": "3.10.0"
  }
 },
 "nbformat": 4,
 "nbformat_minor": 2
}
