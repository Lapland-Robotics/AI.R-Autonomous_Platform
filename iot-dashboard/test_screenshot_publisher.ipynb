{
 "cells": [
  {
   "cell_type": "code",
   "execution_count": 37,
   "metadata": {},
   "outputs": [],
   "source": [
    "from PIL import Image as PILImage\n",
    "import io\n",
    "import base64\n",
    "import json\n",
    "import os\n",
    "from azure.iot.device import IoTHubDeviceClient\n",
    "from azure.iot.device.exceptions import ConnectionFailedError\n",
    "import time\n",
    "\n",
    "# Azure IoT Hub configuration with device \"snower\"\n",
    "with open(\"connect_string.txt\", \"r\") as f:\n",
    "    CONNECTION_STRING = f.read().strip('\"')\n",
    "\n",
    "\n",
    "#let's try taking screenshots, formatting them and sending them to the cloud\n",
    "# we will not use ROS in this case\n",
    "import pyscreenshot as ImageGrab\n",
    "\n",
    "def resize_image(image, max_size=(480, 480)):\n",
    "    \"\"\"Resize image to fit within max_size without exceeding it\"\"\"\n",
    "    image.thumbnail(max_size, PILImage.LANCZOS)\n",
    "    return image\n"
   ]
  },
  {
   "cell_type": "code",
   "execution_count": 38,
   "metadata": {},
   "outputs": [],
   "source": [
    "try:\n",
    "    if client:\n",
    "        client.shutdown()\n",
    "except:\n",
    "    pass"
   ]
  },
  {
   "cell_type": "code",
   "execution_count": 39,
   "metadata": {},
   "outputs": [
    {
     "name": "stdout",
     "output_type": "stream",
     "text": [
      "Connected to Azure IoT Hub.\n"
     ]
    }
   ],
   "source": [
    "try:\n",
    "    client = IoTHubDeviceClient.create_from_connection_string(CONNECTION_STRING)\n",
    "    print(\"Connected to Azure IoT Hub.\")\n",
    "except ConnectionFailedError:\n",
    "    print(\"Failed to connect to Azure IoT Hub.\")\n",
    "    client = None"
   ]
  },
  {
   "cell_type": "code",
   "execution_count": 40,
   "metadata": {},
   "outputs": [
    {
     "name": "stdout",
     "output_type": "stream",
     "text": [
      "Payload size:  15714\n"
     ]
    }
   ],
   "source": [
    "# take a screenshot\n",
    "img = ImageGrab.grab()\n",
    "\n",
    "# Resize image if needed\n",
    "resized_image = resize_image(img)\n",
    "\n",
    "# Convert the image to a base64 string\n",
    "buffered = io.BytesIO()\n",
    "resized_image.save(buffered, format=\"JPEG\")\n",
    "image_base64 = base64.b64encode(buffered.getvalue()).decode('utf-8')\n",
    "\n",
    "# Create JSON payload\n",
    "payload = json.dumps({\n",
    "    \"image_data\": image_base64\n",
    "})\n",
    "\n",
    "# Check payload size\n",
    "print(\"Payload size: \", len(payload.encode('utf-8')))"
   ]
  },
  {
   "cell_type": "code",
   "execution_count": 41,
   "metadata": {},
   "outputs": [
    {
     "data": {
      "text/plain": [
       "'{\"image_data\": \"/9j/4AAQSkZJRgABAQAAAQABAAD/2wBDAAgGBgcGBQgHBwcJCQgKDBQNDAsLDBkSEw8UHRofHh0aHBwgJC4nICIsIxwcKDcpLDAxNDQ0Hyc5PTgyPC4zNDL/2wBDAQkJCQwLDBgNDRgyIRwhMjIyMjIyMjIyMjIyMjIyMjIyMjIyMjIyMjIyMjIyMjIyMjIyMjIyMjIyMjIyMjIyMjL/wAARCAEOAeADASIAAhEBAxEB/8QAHwAAAQUBAQEBAQEAAAAAAAAAAAECAwQFBgcICQoL/8QAtRAAAgEDAwIEAwUFBAQAAAF9AQIDAAQRBRIhMUEGE1FhByJxFDKBkaEII0KxwRVS0fAkM2JyggkKFhcYGRolJicoKSo0NTY3ODk6Q0RFRkdISUpTVFVWV1hZWmNkZWZnaGlqc3R1dnd4eXqDhIWGh4iJipKTlJWWl5iZmqKjpKWmp6ipqrKztLW2t7i5usLDxMXGx8jJytLT1NXW19jZ2uHi4+Tl5ufo6erx8vP09fb3+Pn6/8QAHwEAAwEBAQEBAQEBAQAAAAAAAAECAwQFBgcICQoL/8QAtREAAgECBAQDBAcFBAQAAQJ3AAECAxEEBSExBhJBUQdhcRMiMoEIFEKRobHBCSMzUvAVYnLRChYkNOEl8RcYGRomJygpKjU2Nzg5OkNERUZHSElKU1RVVldYWVpjZGVmZ2hpanN0dXZ3eHl6goOEhYaHiImKkpOUlZaXmJmaoqOkpaanqKmqsrO0tba3uLm6wsPExcbHyMnK0tPU1dbX2Nna4uPk5ebn6Onq8vP09fb3+Pn6/9oADAMBAAIRAxEAPwD0GPT9Ra4Mmwtbsg2KF5HvnvTl03UwjhoiWP3CExj681eul1VGsZLG3SZcxh98u3Ym3njPfnPXtWrd3FsiASzvGA2MqSCfyrolUeg1oc4NN1PyiDEfMzwdnGKaumavxujU+uIz/jW6l7YLIsn22VvYsSD26YpLvxFptnAs0kzFGcoCiE8gZqVUk9kO7MWTTdTLgxw4XuGTJ/nTv7O1DzciBvLxyNvOavQ+MtFuLiOCOeQySMEUeX3P41ueYvoaHOS3QXZyiabqQc74SU5xhMH+dMGmauP4Af8Atmf8a67zF9DR5i+hpe0fYLs5N9N1QxqEiw4HzEpkH6c1IunX20b7dy2OcDjNdR5i+ho8xfQ0e1fYLs5j+z7z/n2k/KgadenpbSflXTF1Ix8w+lMuo47mxmjklkijK/NJG21lA5yD+FP2rE2znP7Ovf8An2k/Kj+zr3/n2k/KtoyxzBJra8lkWdQyL5oUBSOCMimoVZmEl7MgxkYuFP8AIUe1Ycxj/wBnXv8Az7SflR/Z17/z7SflW4ViKc6lMF9nA9+uPekAgIIXU589eXHGPwpe1Ycxif2de/8APtJ+VJ9gu/8An3k/Kt8RQzYRb+4YiRJPllwTg/dPH3T3FBmt5lMy3ICB2j3A4AYcH8qPay7BzGB9hu/+fd/yo+w3f/Pu/wCVbeIgB/p7fi45/SpzNCpIM8QI6gt0o9qw5jnfsF3/AM+8n5UfYbv/AJ93/Ktx/sryNJ9qVWICnbJ6e3rSxQK7sI7yRyOvzg/0o9qw5jA+wXvmZ8ltmOm3nP1pH0++K8QSZz2GK6mO3ZFILl+c5Y017PfIJNzBgu0YY/yo9qw5jlP7Ov8A/n3l/Oj+zr//AJ95fzrqPsL97mY/8C/+tQLKQDH2mb67hn+VHtWPmOX/ALOv/wDn3l/Oj+zr/wD595fzrr/Kb2qv/Z+Fwk0qDJPD+pz3pe1YuY5j+zr/AP595fzpG03UCBthkHPXNdR9hf8A5+Zvb5h/hThZOM/6RLz6sP8ACn7VhzHIHTNY/hj79wen50q6Zq4Ybovl74Byf1rs1gZVClt2BjJPJqJrHLOyySIznJKufTFL2rC5y39nX/8Az7y/nR/Z1/8A8+8v5105sH/5+Zs/73/1qelo6Mp86RgB0Y8H9KftWHMcr/Z1/wD8+8v50f2df/8APvL+ddVc2f2mBomd0Bx80bbTwc9acLZhIX81jn+EngfpR7VhzHJ/2df/APPvL+dOTTr4OCYJMV1vlN7UjQFsc4x6Gj2rDmOY+w3f/Pu/5UfYbv8A593/ACrofsL/APPzN/31/wDWoNlITkXEgOfXj8qPasdznvsN3/z7v+VL/Z15/wA+0n5V0sdu0a43luc5Y5NT4o9qxcxyf9nXn/PtJ+VH9nXn/PtJ+VdZijFHtWPmOT/s68/59pPyo/s68/59pPyrrMUYo9qw5jk/7OvP+faT8qP7OvP+faT8q6zFGKPasOY5P+zrz/n2k/Kj+zrz/n2k/KusxRij2rDmOT/s68/59pPyo/s68/59pPyrrMUYo9qw5jk/7OvP+faT8qP7OvP+faT8q6zFGKPasOY4t9L1U30TpG4tghDx7eS2Rg/lkfjTI9M1oxSCWDD7/kKMT8vvkcH2rt8UYo9qxXOPGm6j524wv5e3G3bzmnjTr3JzbyH0+XpXW4oxR7VhzHIrpmoCRyYJCpxtXZ0/xpf7Ovt5PkSbcdNveuh/s8eTJH50pDyb8sc49h7VaCYPU9MdaPasLkB3FxjgCqtzbX0iP9nmWNyflZvmA59PpVrc3nbQMrgEn0qcdBUSJMR4r6OSYte26rvGwN/AMdCe571FNaS3ihZZ7GULzhxuAOOTWpLIfOlUXEHylTsdPu8dz71EsjA5aewOeBgVC11BIzo9CdSJY4rEkcqyxgYPY5q39k1bJP2mH/vk1cWaQqoWa0J6YBODzwBR50/P76z9vmP+NG4yoLXVN3M8W3PbOSKn+zXX9/8A8eqzHMMYlmgLE8bG/wATU1FhWKH2a6/v/wDj1H2a6/v/APj1X6KLAUPs11/f/wDHqnhjuEhdSy7yRgt8wx3qxTlosMrsJxIAPI8rPQqc7ac/m/P5ZiHTaGQ8eualb734VBPcLBgspOQentj/ABp7gM/0sHLG0zj+61STLO1viPYJcD+Hj3pZoEmQo49sjqPpVF9Ft2YYmuVXJyolPOc/l1NJt9BO48rqQf5Gh2e4OakjF6beVZHiWc8pgZA/P+dJLpsU775nkdsbeG2gjnjH41LDaxwA7dxJYsWY5PPbPp7UK4aiH7Zn5TbEcdVbrjmnOs/7kK0Qwf3gKHke3pVebSYJndzJOrsScpIRjnPT60kelRxwrD50zIGDnLclgMZz2+gqrLuVoThbpQ3FsBj5TsPXtn9aP9LBG0256Z+Uj/PNV/7Htvky9wdmMZmPbH/xIq5BClvAkMediDAycn86HYQE3BhA3RiXPJAOMUZudx+aLbu4+U/d/wAakopAQTi6aeEwSosQY+arLksPY0ZvNrfNb57cN+tT0UAV5vtjW6iOSNZs8kDjH4g0rG9ydrW+M8ZVs4qeigCJjdG1IDwi47HaStIxu93yPBtz/ErZqaigBFZ9i7iu7HzYBx+FP3D/ACKbRQA7cP8AIo3D/IptFADtw/yKNw/yKbRQA7cP8ijcP8im0UAO3D/Io3D/ACKbRQA7cP8AIo3D/IptFADtw/yKNw/yKbRQA7cP8ijcP8im0UAO3D/Io3D/ACKbRQA7cP8AIo3D/IptFADtw/yKNw/yKbRQA7cP8ijcP8im0UAO3D/Io3D/ACKbRQBFI1x9qi8sKYMHzCTzntxikzebTloAe2A1TUUAQqbvnc0HfGFanIbjzfnaMx8/dBz7VJSj7woArmQeb5YGSBz7VOOgquZVEmwDLGrA6CqkBSmcmWVBLatjbiOQcjg9f6fjUWXzjGnc9/rUzrMzz74rR03L5e484xzu9/SpFgtig3w24OOQACKhAQIsm5SFsMdtvUHnpT9hKgGOyzyPbH5fWpRFaLgiOAYGAcDgU42tucZgiOOnyCmBD5MwPFvZ9PQ/4VYi87B84Rg9thP9afRQAUUUUAFOWm05aAEb734U0ldwBxk9M05vvfhVO5nEV1AotJJpGBwyAYQZAOSenX9KBpXLIdG6Opx70u5SM7hj1zWWs4YqTpcy4B+du39akmcRHy5bB2iUkK0ZyORknHHsPqaV9Lia5dzQ3L/eH50blwTuHHXms15FQbDp074JHyg47/5/GpXZYkRBZuVIDkAEgEg5H1/xouhXRdDA9CD+NLVW2KuXdbV4nGR+87//AFqfLcNHDvWJpGDhWRASffHHOKdxrUnoqgmoyMgZrC5TJACsBuOcen1/SlXUHdQwsrgdipX5geP8aaV9h2ZeoqkuoSGGST7BdDYBhCvzNk9vp1pj6nMqEjTLwt/d2ik9NGNRbNCiqkN5JLE0jWk0ZUZMbj5j16Aden60C7nKO32KQBVJA3DJPPH6frSuiXo7Mt0VX+0SDZuhILKGIz93PY8f5wamjYvGjlSpZQcHt7UwHUUUUAFFFFABRRRQAUUUUAFFFFABRRRQAUUUUAFFFFABRRRQAUUUUAFFFFABRRRQAUUUUAFFFFABRRRQAUo+8KSlH3hQBX+TzM4+bOM4psrXY4hSI8/xkjinMiGQE/e6gZqRgSFwgbGepx2qmBQmXUJCwNraOueN7nn68UkNtcecfNsrRIyOShOT+lWrSARhmNtHC5/uHOas1IFT7HDnP2ePpj7oqfMnpUlFO4EeZPSjMnpUlFFwI8yelGZPSpKKLgR5k9Kem8qQTg9jilpy0gIyj7MeZlsfexTTFNhcTYwOcrnJ9anooAbg+g/OjB9vzp1FADMH2pcH2/OnUUAMwfalwfb86dRQA3B9vzowfb86dRQAzafQUbT6Cn0UANwfb86MH2/OnUUANw3t+dGD7fnTqKAG4Pt+dGD7fnTqKAG4Pt+dGD7fnTqKAG4Pt+dGD7fnTqKAG4Pt+dGD7fnTqKAG4Pt+dGD7fnTqKAG4Pt+dGD7fnTqKAG4Pt+dGD7fnTqKAG4Pt+dGD7fnTqKAG4Pt+dGD7fnTqKAG4Pt+dGD7fnTqKAG4Pt+dGD7fnTqKAG4Pt+dGD7fnTqKAG4Pt+dGD7fnTqKAG4Pt+dGD7fnTqKAG4Pt+dGD7fnTqKAIZY5XUCOQRkHrjOaIY5UP72UP6YXFTU13WNGdzhVBJPoBQBXKZkD7jkdqfIMoP3e/APGfb/I/Gqz2m+8S43kbf4atOoZB8u4joM4qpAU4rVTIQ9j5aEYJ83PvjGfWpxY2yuGEQ3A5Byev501GkhxFHZyeWGxuLjp69c1aqQCiiigAooooAKKKKACnLTaXJCkgZPpQAEkHio5LiOHHmzImRkbiBSsz7C2zDY4XOarTosxjaWyEp24OcHbkj1+mfwoXmBKb2Bc7riNQO5IA/OpI5llTdG4ZckZHTI61CbK0K7TbxMMY+ZM8fjUyIkSBI1CqOyjAp6APyfWjJ9aTNGaQC5PrRk+tJmjNAC5PrRk+tJmjNAC5PrRk+tJmjNAC5PrRk+tJmjNAC5PrRk+tJmjNAC5PrRk+tJmjNAC5PrRk+tJmjNAC5PrRk+tJmjNAC5PrRk+tJmjNAC5PrRk+tJmjNAC5PrRk+tJmjNAC5PrRk+tJmjNAC5PrRk+tJmjNAC5PrRk+tJmjNAC5PrRk+tJmjNAC5PrRk+tJmjNAC5PrRk+tJmjNAC5PrRk+tJmjNAC5PrRk+tJmjNAC5PrRk+tJmjNAC5PrTWUSK0bgMrAgj1FMlkeNQUiaQ55AOP50sMjyH54Wjx/eIOfyoArukv2hXU/LkZGe3erLLuTGM8dM4qlJ9s/tCPYF+z4+b/Pr6VdIyhGM5HT1qpbAUGiLYd7S63n5iEm6H06ilRfLkDrZXWQeMy57emelMMSiJFNpeL8gG1Hzj2JzSrjAAh1DaD13f8A16hbAXo5GkZgYZI8d2xz9OakqsLpipJtLgH02j/GrNMAooooAKKKKAClAyCM496SnLQAEErgMQfXFUXj1MRxmGePeV/eCYZAPHTaOejd+9XJY1mjZGzhgQcHHWo7W0is4zHFu2k5+Y5oApW7a2s5N0lq8K9oeGfjtk8YPr+FGzW8MfPsicHYCjYzz19hx0rUooAiEcvlshmbJHD4G4Hn2x6VWdNSFwGSWMxHHyYHHXv/AN81eooAzHi1nc+y5tCuTtyhBx27daIo9X2L5s8PJBIGAQO4ztI9q06KAMgx68suxZ7VoyC3mMvKnjC4HXvz70LFrqmMG4tH4G47SBxjrx356dM1r0UAZJj1wMgFxaEHqQpwPqMd/bpnvQIdd8tQ13aFuMkKc/yx+la1FAGdPHq7BxBPbIWUYLgnaec4GPoOc1E6a8kLGOazlcAlVYEZPPGcAdx+X41rUUAY+zxAkinzbSRWIDAjGwc5P8h3olj15Wd4p7Zx/DHjHf1I6VsUUAZMMeu7leW4s+UG6Moflb6jrinzR6uFLRSwlsDCcDnjPVenX/J406KAMdYtfkgRmubWKU4LKFyB046c9+c0qQ66eWurYdeCucc+w5/TrWvRQBmTR6y8eIp7aN+fmAJH0wR/XvSmLWA6kXFsQOoKnB6+2f7vftWlRQBleRrhVh9stVJJIbyycDsMe34054NZYZW9tkYDGBFkH3+tadFAGUYddO8C7sgDkg+Ucj0H8/WhV1zfHG8lqU2fNKo53ZHUHt16fpWrRQBneVq3P+kW+35cDb8w6ZycY9e3ftR5eq4x50RyBk55zgZx8vrnsa0aKAKBXVjkebaKPUK2f1piprChAZbZ+SWJyDj06frj/wCvpUUAZoi1nDA3Nrz0JUkryfYA9vy/GoPJ8QblH2u1A6sxTI69MYB/z+J2aKAM4x6u0QHn26OD94L1564569aaU1iOdI0mhliKHdK6gFW4HAHbqe9adFAGb5OrqABdW744LMmCenOAOP4vz/CnW0eqozC4ngkUnAKjBXpzjHpnitCigDKeLW2KbLm1QDOeMk+nO3HH0pUj1nzWEk9uU2nBQY55xjI4xx1zmtSigDMCaysxHm2zJt6t657YHH456+3MUkevrJ+7ntWR2AORzGOcnoM9q2KKAMcpr8QVhNazEsAybcYGeSDx9MfzqZotX3syXFsAQRtZScE45GB2545rSooAzfK1YEbriJ+5KqFHUcc57Z/PqKPL1YkEzRDdyQoACdOMnOe9aVRefH53k7h5mM7c84oApGPVmwfOiXcM7VAAT2yc5/Kho9WbkTRLuBwqgDZwcZPOecdjVwXURjWQOuxjtBz39PanGdBL5RI34zigCi6as2Ss0S7sgKABt4OCTz7djVi2W981nuJI/LIIWNV5BzwSfpUj3McbxIzANKSEGfvEDJqUAZz60AU2dxcKgxsPU7TVgjMZGM8dPWoTLtlCY64qZv8AV/xdvu9aqQGdsAjRRFfp8g+VXz+Z9aCcggJqWcZz3JqYkNc7fNvAd3935fzx0q7UrRAZ4Vcqc6hyehz+tXYovKBHmSPk5y7ZxT6KACiiigAooooAKawZjtVypIPI/CnUD/WD6H+lAARzyc8d6gnlaLbshaTPcDpyP8f0qw33vwqleBzPCRevAgB3IgyX5H5D/GgaWoz7dPyBp05IHU4AP07064vZYZiken3Ew4w6AAd/X6frVMNGn39ZZiB9w8dfUDmpbloYbsp/arW7HP7piGA4469PWiWivaxVrPRXHNqUixbhp1w8m45hXG9V7E59aJdUkijZ20u8IXJOFB45/wAP1qtLdK8ihNeVFOSQygcZYcZ75x19KtGRboobbU2C/KpMShgTyOvYn+lQrvYG7bxCPUpHRXOn3C7uikDJ9/pT1vpGVWFjPgjlccg8fh3/AEqX7NL5Oz7XLu37t56/T6Uj207eXi8kUqoVvlHzc9frV38iL+QltdSTuA9pJCCM/vOvQf44/CreB6VWit5o5FZ7uSQAEMpUAEnofbH9aSC0kiYF7mSTauADwBx9efxob8hXLOB6UuB6VTitLiKVWN9K6rn5XUc59asRxeXIxDEqQAFJJx1yefr+lC1AkwPSjA9KKKBhgelGB6UUUAGB6UYHpRRQAYHpRgelFFABgelGB6UUUAGB6UYHpRRQAYHpRgelFFABgelGB6UUUAGB6UYHpRRQAYHpRgelFFABgelGB6UUUAGB6UYHpRRQAYHpRgelFFABgelGB6UUUAGB6UYHpRRQAYHpSbRnPcdKWigBpjUrtIG30wMUu0bt38WMZ70tFACFQxBPJHQntSqMMKKqanI8WnzPGxVgBgg8jkUAT04/6s8E8dutNpx+4evTt1qpbCM8OFRD598g2D5WTcT9eOtCTJuI+13YIHKtH0/SkEwVY/8ATLtMqDh4sk8dTxSiYdf7QnwME5i/+tULYZdtzmEN5jyBuQXXB/KpaihDBNzTNKGwQWUDAqWmAUUUUAFFFFABSHIYEDJwf6UtJjLjqODyPwoARmk2E7AHxwM5FQS73Ee60WTI+bJHy8+9S3MU8kGy3n8mTIO8qG/DFVPI1fywPt1sXwMnyOO2ePwb8/agC0LeBc4gjGeuEHNDW8DkloI2JGDlAciq9rFqotHF1cwG4bbtKR/Knrn1zT7aDUElRrm9jlQE7kSIKCOcf0oC5IbW2YktbRHPXMYP9KcsEKkFYlUjphcVCsF+Ipka8Qsy4jfy+VOTyemeMflTDBqhVwL2FTg7T5OcHnGfbp70bBcu/n+VH5/lVaaC9d0Md2sa7Ar/AC9Tzkj07U24t79tv2e+VAIwpDx7snu2fWgC3+B/Kj8D+VJCJViUTMryAAFlGMn1xUlADPwP5Ufgfyp9FADPwP5Ufgfyp9FADPwP5Ufgfyp9FADPwP5Ufgfyp9FADPwP5Ufgfyp9FADPwP5Ufgfyp9FADPwP5Ufgfyp9FADPwP5Ufgfyp9FADPwP5Ufgfyp9FADPwP5Ufgfyp9FADPwP5Ufgfyp9FADPwP5Ufgfyp9FADPwP5Ufgfyp9FADPwP5Ufgfyp9FADPwP5Ufgfyp9FADPwP5Ufgfyp9FADPwP5Ufgfyp9FADPwP5Ufgfyp9FAEEryIoMcRkOeRnFUtReR9LuPMhMeAOrA55FalUdY/wCQVP8AQfzFAE9JPzbkea8WcfOnUc0tEjbYs79nT5sZpz2EU2uds0gOoAAZ+Uxfd59avR7xGoaQu2OWxjP4VRknYzMg1CFfm2hfLyQc9KBOSxA1GInOMeWP8aQzQoqr5N3/AM/i9f8AniP8anjDqmJGDNk8gY4oAfRRRQAUUUUAFOWm05aAFooooAKKKKACiiigAooooAKKKKACiiigAooooAKKKKACiiigAooooAKKKKACiiigAooooAKKKKACiiigAooooAKKKKACiiigAooooAKKKKACiiigAooooAKKKKACqOsf8gqf6D+Yq9VHWP8AkFT/AEH8xQBPSuTsADhSehIzSVDPKUurVBcRIHLZjdcmTjse2KqSuBEbsbiwv7UJnIBXt9c/rU0NxbuUQzQvN329z7UyGeI/LLPaux6eXxVpdjAMm0g9CAKkB1FFFABRRRQAUUUUAFOWm05aAFooooAKKKKACiiigAooooAKKKKACiiigAooooAKKKKACiiigAooooAKKKKACiiigAooooAKKKKACiiigAooooAKKKKACiiigAooooAKKKKACiiigAooooAKKKKACqWr/wDIKn+g/mKu0UAQVFPvE9swaARjdvEiksfl42nt7+1S0OOF4QnBHzfSqkIpI0h4zp/TkDt7Vaglj8tU8yEsOCIzxn2qt5bAHEOnj1/zil2Ms+4RWeVOB82GUf41Iy/RVUPeODtW2I7EOSKtUAFFFFABRRRQAU5abTloAWiiigAooooAKKKKACiiigAooooAKKKKACiiigAooooAKKKKACiiigAooooAKKKKACiiigAooooAKKKKACiiigAooooAKKKKACiiigAooooAKKKKACiiigAooooAKKKKAIKSTOFAVG4PDH2pabMAQo2I2VPBOD07U5bAioYG4IsrMkc43c/hxUscCOx862tl7gq2STnvVZrYED/iW2xHtMKsJbJJJmWyhUHPIbJP4UgLcaJGm2NVVfRRxTqbHGkS7Y0Cr1wBTqACiiigAooooAKUfSkpcBlIIyDwRQAuT6GmtKiuqMyh2+6pYZP0HeohZWwORCv5mopdJs5r21u3iPnWoIiIY4H4d6at1AuZPpRk+lRvbxSNueMMcY5pwiQRmMKAh4IpAOyfSjJ9DUK2duowIgB9TSraQKwZYwCDkcmgCXJ9KMn+6aguLOO5ZWcA7emVzSQWcdvIXTgkYOBjNAFjJ9KMn0NRNawNIXaJSx5zT5IY5SpkQMV5Ge1ADsn0NGT6U2OKOJSqKFBOTjvUf2O34/dLwc/jQBNk+hoyfQ02SGObHmKGx0zUa2dupyIlB49aAJsn0NGT6GlooATJ9DRk+hpaKAEyfQ0ZPoaWigBMn0NGT6GlooATJ9DRk+hpaKAEyfQ0ZPoaWigBMn0NGT6GlooATJ9DRk+hpaKAEyfQ0ZPoaWigBMn0NGT6GlooATJ9DRk+hpaKAEyfQ0ZPoaWigBMn0NGT6GlooATJ9DRk+hpaKAEyfQ0ZPoaWigBMn0NGT6GoLu5+ywmQIXx2H0rNXV0TLixkDOdx2gnJ6UroDZyf7poyfT9azvtylSPs4weSCaX7cPMMnkDeRtJz2o5kK5arOunvTdRBLRZYxvBZuNoxxx3zWjUc0EcskMjQCRo9205xtyMH8+lXIGrmV5VwVwdKT6Z4p8bX8Tl001VYjBO7mrQtwF2iwkxnoZvbr1pYLSKTIksmjwOpcnP05qLBYhN3qmflsuP9ogUfa9U4/wBB6+44q4dPtmOWjLH1LH/GnR2cETqyIVK9PmNFgK6T3xQF4drY5G3OKXzrz/nn/wCO1eoosFij515/zz/8do868/55/wDjtXqKLBYo+def88//AB2p4ZJmglMo2sAccY7VPSP/AKmT/dP8qLDK9k0sltJvkl35wGdQGHHp/KoWe6iQxtLcySA58xLYEEccU7TWjSzlbMYjDEkoxIHryaay6XM0k/nqScbmSY/QdDTAkZLyNRILmV1IIKeSu7JHB/DripIZ3WH50ndxwS0e0moQdMS3I86MQs3XzSRuHvmlJ06PfEZ0BB5Uy8jPtT0E79CY3nIxbXJ9f3fSmS35iVSLK7k3Z4SPJH15qAnSGQRG5iIBztE3r+NSSnT/ADMyTLvjYnmQ/Ke+aehPvFyGQyxLIY5I8/wyDBH1p9ZsNrpdjIZkZY2Q7CWlPB9ME1ba9tUIDXEQJAYDdzjrmk7dCle2pPRUCXtrIyqlzEzP90Bhk/Sp6QwooooAKKKKACiiigAooooAKKKKACiiigAooooAKKKKACiiigAooooAKKKKACiiigAooooAKKKKACiiigAooooAKKKKAI5F3qybiu7IyO3FQrZuqhRdzDH93A/oasfxfj/SnUAV0tWWRWNzO2DnaxGD9eKsUUUAQU2S2imeKR1JeLOwgkYyMH9KdUg6CqYisLGAAgB8HGf3h5x+NAsIRkbpcE5x5rf571ZoqRlUafbryquD/wBdG/xqeKNYowi5wPU5NPooAKKKKACiiigApsrBbeVmIChGJJ6AYp1RXcCXVhc28ufLlidGwcHBUg0eoMoabqNlLC8f2+Eu7bRmVA3IwMAH8vwq4bSURgLdFCBgt5S88965DT/A/h+Fre7llmU20qtGRONmUIIz8ozyBmunKaUX87zV/wB7zW2+vritJqmvhZEXP7SLC2kqw7PtO7ryYl7jA/LrTTZSliTeEg9QYkqSC0gicyQlhuUDiQkY6/1p4tIV24U/Kcj5jwf8gVmy0QrZSKhAuecgg+SvHqPfNKlm43b5/MLDgmNcg+tTxQxwKVjXAJLHnPJqSgCobWUoB9qw27LN5S/N+FOa1Zmc+djcMD92vy8/rVmincVitFatHJuaUOPTywOfWrNFFIaVgooooAKKKKACiiigAooooAKKKKACiiigAooooAKKKKACiiigAooooAKKKKACiiigAooooAKKKKACiiigAooooAKKKKAG/wAX4/0p1N/i/H+lOoAKKKKAIKkHQVHUg6CqkIKKKKkYUUUUAFFFFABRRRQAVDeRPPp91DHIY3khdVcdVJUgEfSpqCSsbsOoBP6UMHqcVp3hXV98Ej61Mghmjd1cyZkC4yCC5GGA/WuraxkLEfaf3ZGNnlLj8+tOtLmS4tpH3QllJClSdv4/1/GojfSxxkTNZpMDyhlPTj296iMFHYiNOMNidbaZYwou2zn73lr09MUfZ7gn/j8fGc42LUTXN1GokkS2ERB+cSHg44HToTUsN2jQhpJIt3fyySKuw9BVgmCFTdMTkYbaMj1/Oka3nMxdbyRVP8G0ED+tKb60GP8ASI+e+6mS6nYwKrS3USBs7ST1x1o5WF49yTyZef8ASX+7j7o6+v1qVFKxqrMXIGCx6n3pIZo54lkicOjdGHQ0+goKKKKACiiigAooooAKKKKACiiigAooooAKKKKACiiigAooooAKKKKACiiigAooooAKKKKACiiigAooooAKKKKACiiigAooooAb/F+P9KdTf4vx/pTqACiiigCmyyGcEH5PrVa9kEasxmuIwGGfKTd2+hqy3neeAFOz6cVVvpPLHNzNB8wAKR7u3ToatgiG1uFa6QC6u5NynCSRYX8TjrWjn3rMW6Uqx+33Dc4H7g8Z9se1SRW9xNFvj1K4KseCYlH6YpFF/PvRk+tRQQyxZ8y4kmz/AHlAx+VTYPoaAEyfWjJ9aXB9DRg+hpgJk+tGT60uD6GjB9DQAmT61IuTBL/un+VMwfQ024mjtdNu7ifIiiieR+CflCkn+VJ7CYadv8h93mA7usgAPT24pZLKWSV3F3IobovlqQPzFVLa2FxBDeQwRnzAsiFmb7pAYHGetPGnOwdpLWDzOCu2V+ue5qRFtbaQRFDdSEk5DFVyPbpjFILVwhU3DHJPOwZqvBa3VuztFbWqsw5xI5z7c9KvxCUxL5qqJP4gmSPwp3FYrGzkMYUXTgg/eCLk+1Oa2dmU/aGUBicBFwfb6VawfQ0YPoaLhyopW1lPBKGfUJ5lA+46qB+gq5S4PoaMH0NJu4JWEopcH0NGD6GgYlFLg+howfQ0AJRS4PoaMH0NACUUuD6GjB9DQAlFLg+howfQ0AJRS4PoaMH0NACUUuD6GjB9DQAlFLg+howfQ0AJRS4PoaMH0NACUUuD6GjB9DQAlFLg+howfQ0AJRS4PoaMH0NACUUuD6GjB9DQAlFLg+howfQ0AJRS4PoaMH0NACUUuD6GjB9DQAlFLg+howfQ0AJRS4PoaMH0NADP4vx/pTqTB3dD1/pTsH0NACUUuD6GjB9DQB8uQeNdRJQi/wBVcR5aQrPI2R788CtaT4hEL5pGsRxOpCN9ocDOMZBzg85NcboniK90FLpbRIHW5TY4lTcO/wDiaqrdQGJI5LZ3VQBjz2AyO+O1dMak7tNadDRtJKx20XxGKNMZJtTkVlwgNy42H1+9zUD/ABAmZ2K32qKpJIHnMcD0+9XHJNZqoDWTswHJM5GfwxVWr9oxXO6/4T+4/wCghqn/AH9b/wCKo/4T+4/6CGqf9/W/+KrhqKftGHMzuf8AhP7j/oIan/3+b/4qj/hP7j/oIap/39b/AOKrhqKPaMOZnc/8J/cf9BDVP+/rf/FUf8J/cf8AQQ1T/v8AN/8AFVw1FHtGHMzuf+E/uP8AoIap/wB/W/8Aiqa/j2aSN43vtSaNwVZWlJDA9QRu5FcRRR7RhdncJ4+njRUS/wBTVFACqsrAADoB81O/4WDdf9BHVf8Av83/AMVXC0Ue0YXO6/4WDc/9BLVf+/zf/FUf8LBuv+gjqv8A3+b/AOKrhBS0+djud1/wsG6/6COq/wDf5v8A4qj/AIWDdf8AQS1T/v8AN/8AFVwtFHOx3O6/4WDdf9BLVP8Av83/AMVR/wALBuv+glqn/f5v/iq4Wlo9oykjuf8AhYF1/wBBLVP+/wA3/wAVS/8ACwLr/oJap/3+b/4quFFLU+0Y7I76LxvqM4JhutZlC8Eo7tj64NJH45v5c7L7Vmx1/fN/8VXP6B4mn0CC5ihiLid0Y/vSmNufTr1qjZ6mbMONmd2enoetN1LJNNX9DKLnzyTjorWd9+/odj/wmmpf8/mrf9/z/wDFUf8ACZ6n/wA/mrf9/wA//FVzKeIAkSx/ZojtGAzRgn86hfVUkdnMRBY5IGAKz9tI25UdZ/wmep/8/mrf9/z/APFUf8Jnqf8Az+at/wB/z/8AFVyP9px/882/MUv9px/882/MVDrz8g5UdU3jm/WQRm+1beeAvnNk/T5qdJ401OGfyJbrWY5v+ebu4b8ic1yKak0V/b3cUY3QMHQN6jkH86vv4t1OfxTH4hunW4vo8BS44wFKjOPTNRLE1LO1ri5dTbPjy8BwdR1UH0Mzf/FU6TxxqEQUyXuroG6b5HGfpk1zur+I73WNWg1K5WP7RCqqCq8NtJIJH403Vddvb/VkvJSgaBgY41XCKRg8L745oWJqcl3a/b/g/wDAHFJys1p3/wAzo/8AhOr4MFOoaqpIDDdMw4PIP3qV/HN9Gqs2oaqA3Q+c3P8A49XN6prNxqeowzT7QYIxGm1e2c8/iT+FGqXrebaquGMHzglMAknPTJ446VcK8nFt2v6BODU0oK67nRy+Or+Fgst7q8bEZAeR1OPXk0j+PL2MgPf6spPPzSsP/Zq5fVdR+3Sw7YREqDcBuL5LYJ5Pb2p2taxPq01u8yRqY4wBsHrz3/l09hUxxM7a2v6BShKUYucbPrrsdM3jy9TG+/1ZcjIzKwyP++qd/wAJxqH2cXH23VvJLbd/mtjP/fVc7rfiCfV7Oxt5YYkFuC25ByxbA/AcDiq2o6pPfW9vHIsahVySi43Hpz24ojiZuLbsn6G8acHuv+AdP/wsC6/6CWqf9/m/+Ko/4WBdf9BLVP8Av83/AMVXDUVP1qfl9w/YwO5/4WBdf9BLVP8Av83/AMVR/wALAuv+glqn/f5v/iq4akpfWqnl9w/YQO5/4WBdf9BLVP8Av83/AMVR/wALAuv+glqn/f5v/iq4ail9bqeX3C9jA7n/AIWBdf8AQS1T/v8AN/8AFUf8LAuv+glqn/f5v/iq4aij63U8vuF7GJ3P/CwLr/oJap/3+b/4qj/hYN1/0EdU/wC/zf8AxVcNRR9bqeX3C9lE7n/hYN1/0EtU/wC/zf8AxVH/AAsG6/6CWqf9/m/+KrhaKPrdTy+4XsonfwfEORXJmvdWkUjotyykH65p0nxFyrCO51dSQQC12zY569R/k159RR9an5C9nE9DHxH/AHaKZtV3Ljc32p/m/DNKPiQPnzLqvJ+X/S3+X9ea87FPikaGQOgXI/vKGH5Gn9ZmL2cTvx8Rv9JZzcar5RxiMXTDH45ob4j5VgJ9VDEYB+1twcemfXmuFivXhsp7URwskxBLPGCykf3W7U430hsha+Vb7AMb/KG/rn73Wn9ZmLkR3MvxFzZW6JPqyTISZJjctiQfTPFKvxIXJ3S6sRk423jjj355riE1SaOK3jRI/wBy24bssGOMDIJxwD2xTFu4pLmae6thMZDuwrmMKfbFH1iYuRHdw+PLqWV2ik1uSNgQirM7YP1zz3qt/wALDn8kL9u1Tfn7/nt09PvVzCarbQgiGxljGcgLeOAPXpVe81Se90+xspEiWKyRkjKLgtk5Jb1NP6zPyFyo/9k=\"}'"
      ]
     },
     "execution_count": 41,
     "metadata": {},
     "output_type": "execute_result"
    }
   ],
   "source": [
    "payload"
   ]
  },
  {
   "cell_type": "code",
   "execution_count": 42,
   "metadata": {},
   "outputs": [
    {
     "name": "stdout",
     "output_type": "stream",
     "text": [
      "Message sent to Azure IoT Hub.\n"
     ]
    }
   ],
   "source": [
    "client.send_message(payload)\n",
    "print(\"Message sent to Azure IoT Hub.\")\n",
    "client.shutdown()"
   ]
  }
 ],
 "metadata": {
  "kernelspec": {
   "display_name": ".venv",
   "language": "python",
   "name": "python3"
  },
  "language_info": {
   "codemirror_mode": {
    "name": "ipython",
    "version": 3
   },
   "file_extension": ".py",
   "mimetype": "text/x-python",
   "name": "python",
   "nbconvert_exporter": "python",
   "pygments_lexer": "ipython3",
   "version": "3.10.0"
  }
 },
 "nbformat": 4,
 "nbformat_minor": 2
}
